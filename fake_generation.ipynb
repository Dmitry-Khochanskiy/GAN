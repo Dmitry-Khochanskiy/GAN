{
 "cells": [
  {
   "cell_type": "markdown",
   "id": "4225fcfd",
   "metadata": {},
   "source": [
    "# Work in progress!"
   ]
  },
  {
   "cell_type": "code",
   "execution_count": null,
   "id": "f9b48951",
   "metadata": {},
   "outputs": [],
   "source": [
    "import os\n",
    "import time\n",
    "import random\n",
    "import numpy as np\n",
    "import torch\n",
    "import torch.nn as nn\n",
    "import torch.nn.functional as F\n",
    "from torch.utils.data import Dataset, DataLoader\n",
    "from torchvision.utils import make_grid\n",
    "import torchvision.transforms as tv\n",
    "import torch.optim as optim\n",
    "from PIL import Image\n",
    "import logging\n",
    "import matplotlib.pyplot as plt\n",
    "import copy\n",
    "import pandas as pd\n",
    "from statistics import mean\n",
    "%matplotlib inline"
   ]
  },
  {
   "cell_type": "code",
   "execution_count": null,
   "id": "c300ca48",
   "metadata": {},
   "outputs": [],
   "source": [
    "def load_model(model_path):\n",
    "    ''' Loads a model and its state dict. Accepts path to the model, returns the model. Default cnn type is resnet18 '''\n",
    "    saved_model = torch.load(f'{model_path}')\n",
    "    model_name  = saved_model['model_name']\n",
    "    categories = saved_model['сategories_data'][0]\n",
    "    mylogs.info(\"Model: \" + model_name)\n",
    "\n",
    "    from GAN import generator\n",
    "    model = resnet.ResNet18()   \n",
    "    \n",
    "    model_name = torch.load(model_path)['model_name']\n",
    "    hyperparameters = torch.load(model_path)['hyperparameters']\n",
    "    model.load_state_dict(torch.load(model_path)['model_state_dict'])\n",
    "    model.eval()\n",
    "    return model, model_name, hyperparameters"
   ]
  },
  {
   "cell_type": "code",
   "execution_count": null,
   "id": "3c7e7501",
   "metadata": {},
   "outputs": [],
   "source": [
    "model_path = \"melanoma_classification_ResNet18_generator.pt\"\n",
    "model, model_name, hyperparameters = load_model(model_path)"
   ]
  },
  {
   "cell_type": "code",
   "execution_count": null,
   "id": "22a33607",
   "metadata": {},
   "outputs": [],
   "source": [
    "def generate_fake_images(generator,fixed_noise):\n",
    "    fig, ax = plt.subplots(figsize = (10, 10))\n",
    "    fake = netG(fixed_noise)\n",
    "    fake = fake.cpu() \n",
    "    ax.set_xticks([])\n",
    "    ax.set_yticks([])\n",
    "    ax.imshow(make_grid(fake, 4).permute(1,2,0))\n",
    "\n",
    "fixed_noise = torch.randn(2, nz, 1, 1, device=device)\n",
    "generate_fake_images(model, fixed_noise)"
   ]
  }
 ],
 "metadata": {
  "kernelspec": {
   "display_name": "Python 3 (ipykernel)",
   "language": "python",
   "name": "python3"
  },
  "language_info": {
   "codemirror_mode": {
    "name": "ipython",
    "version": 3
   },
   "file_extension": ".py",
   "mimetype": "text/x-python",
   "name": "python",
   "nbconvert_exporter": "python",
   "pygments_lexer": "ipython3",
   "version": "3.9.7"
  }
 },
 "nbformat": 4,
 "nbformat_minor": 5
}
